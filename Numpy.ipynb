{
 "cells": [
  {
   "cell_type": "markdown",
   "id": "06fe9f00",
   "metadata": {},
   "source": [
    "# 1. Its Faster than List and other collections \n",
    "# 2. Many mathematical operations available "
   ]
  },
  {
   "cell_type": "code",
   "execution_count": 2,
   "id": "347d3d20",
   "metadata": {},
   "outputs": [],
   "source": [
    "import numpy as np\n",
    "from time import process_time"
   ]
  },
  {
   "cell_type": "code",
   "execution_count": 9,
   "id": "dd9cb344",
   "metadata": {},
   "outputs": [
    {
     "name": "stdout",
     "output_type": "stream",
     "text": [
      "Time Taken =>  0.015625\n"
     ]
    }
   ],
   "source": [
    "pythonlist = [i for i in range(0,1000000)]\n",
    "start_time  = process_time()\n",
    "pythonlist2 = [i+5*5 for i in pythonlist]\n",
    "end_time = process_time()\n",
    "print('Time Taken => ',end_time-start_time)"
   ]
  },
  {
   "cell_type": "code",
   "execution_count": 11,
   "id": "7ffbc768",
   "metadata": {},
   "outputs": [
    {
     "name": "stdout",
     "output_type": "stream",
     "text": [
      "time taken with np -->  0.0\n"
     ]
    }
   ],
   "source": [
    "nparray = np.array([i for i in range(0,1000000)])\n",
    "stime = process_time()\n",
    "nparray = nparray+5*5\n",
    "etime = process_time()\n",
    "print('time taken with np --> ',etime-stime)"
   ]
  },
  {
   "cell_type": "code",
   "execution_count": 13,
   "id": "d52b501b",
   "metadata": {},
   "outputs": [
    {
     "name": "stdout",
     "output_type": "stream",
     "text": [
      "[ 1  2  3  4  7  5  6 67]\n",
      "<class 'numpy.ndarray'>\n"
     ]
    }
   ],
   "source": [
    "nparr = np.array([1,2,3,4,7,5,6,67])\n",
    "print(nparr)\n",
    "print(type(nparr))"
   ]
  },
  {
   "cell_type": "code",
   "execution_count": 14,
   "id": "68dedde4",
   "metadata": {},
   "outputs": [
    {
     "data": {
      "text/plain": [
       "(8,)"
      ]
     },
     "execution_count": 14,
     "metadata": {},
     "output_type": "execute_result"
    }
   ],
   "source": [
    "nparr.shape"
   ]
  },
  {
   "cell_type": "code",
   "execution_count": 15,
   "id": "301b3621",
   "metadata": {},
   "outputs": [
    {
     "data": {
      "text/plain": [
       "(2, 4)"
      ]
     },
     "execution_count": 15,
     "metadata": {},
     "output_type": "execute_result"
    }
   ],
   "source": [
    "nparr2 = np.array([(1,2,3,4),(5,6,7,8)])\n",
    "nparr2.shape"
   ]
  },
  {
   "cell_type": "code",
   "execution_count": 18,
   "id": "df1d5601",
   "metadata": {},
   "outputs": [
    {
     "name": "stdout",
     "output_type": "stream",
     "text": [
      "[[1. 2. 3.]\n",
      " [4. 5. 6.]]\n"
     ]
    },
    {
     "data": {
      "text/plain": [
       "(2, 3)"
      ]
     },
     "execution_count": 18,
     "metadata": {},
     "output_type": "execute_result"
    }
   ],
   "source": [
    "nparr3 = np.array([(1,2,3),(4,5,6)],dtype=float)\n",
    "print(nparr3)\n",
    "nparr3.shape"
   ]
  },
  {
   "cell_type": "code",
   "execution_count": 19,
   "id": "cd98220b",
   "metadata": {},
   "outputs": [
    {
     "name": "stdout",
     "output_type": "stream",
     "text": [
      "[[0. 0. 0.]\n",
      " [0. 0. 0.]]\n"
     ]
    }
   ],
   "source": [
    "nparr4 = np.zeros((2,3))\n",
    "print(nparr4)"
   ]
  },
  {
   "cell_type": "code",
   "execution_count": 20,
   "id": "c14d0cac",
   "metadata": {},
   "outputs": [
    {
     "name": "stdout",
     "output_type": "stream",
     "text": [
      "[[1. 1. 1. 1.]\n",
      " [1. 1. 1. 1.]\n",
      " [1. 1. 1. 1.]]\n"
     ]
    }
   ],
   "source": [
    "nparr5 = np.ones((3,4))\n",
    "print(nparr5)"
   ]
  },
  {
   "cell_type": "code",
   "execution_count": 21,
   "id": "4f8fc4f1",
   "metadata": {},
   "outputs": [
    {
     "data": {
      "text/plain": [
       "array([[66, 66, 66, 66],\n",
       "       [66, 66, 66, 66],\n",
       "       [66, 66, 66, 66]])"
      ]
     },
     "execution_count": 21,
     "metadata": {},
     "output_type": "execute_result"
    }
   ],
   "source": [
    "np.full((3,4),66)"
   ]
  },
  {
   "cell_type": "code",
   "execution_count": 26,
   "id": "c0e2c684",
   "metadata": {},
   "outputs": [
    {
     "data": {
      "text/plain": [
       "array([[1., 0., 0., 0.],\n",
       "       [0., 1., 0., 0.],\n",
       "       [0., 0., 1., 0.],\n",
       "       [0., 0., 0., 1.]])"
      ]
     },
     "execution_count": 26,
     "metadata": {},
     "output_type": "execute_result"
    }
   ],
   "source": [
    "#Identity Matrix --> Raows and Column size should be same\n",
    "np.eye(4)"
   ]
  },
  {
   "cell_type": "code",
   "execution_count": 27,
   "id": "9cf3943e",
   "metadata": {},
   "outputs": [],
   "source": [
    "#Random values "
   ]
  },
  {
   "cell_type": "code",
   "execution_count": 30,
   "id": "39b820a1",
   "metadata": {},
   "outputs": [
    {
     "data": {
      "text/plain": [
       "array([[0.5665613 , 0.53390895, 0.94551268, 0.63926942],\n",
       "       [0.18536572, 0.41593688, 0.80936387, 0.63429444],\n",
       "       [0.84263861, 0.34645535, 0.72079647, 0.03143295],\n",
       "       [0.26970661, 0.49398643, 0.2352424 , 0.13445525]])"
      ]
     },
     "execution_count": 30,
     "metadata": {},
     "output_type": "execute_result"
    }
   ],
   "source": [
    "np.random.random((4,4))"
   ]
  },
  {
   "cell_type": "code",
   "execution_count": 32,
   "id": "ebf5bcf3",
   "metadata": {},
   "outputs": [
    {
     "data": {
      "text/plain": [
       "array([[7, 9, 8, 6, 9],\n",
       "       [9, 5, 8, 6, 5],\n",
       "       [5, 6, 9, 7, 6],\n",
       "       [9, 8, 9, 6, 7],\n",
       "       [7, 9, 6, 8, 5]])"
      ]
     },
     "execution_count": 32,
     "metadata": {},
     "output_type": "execute_result"
    }
   ],
   "source": [
    "np.random.randint(5,10,(5,5))"
   ]
  },
  {
   "cell_type": "code",
   "execution_count": 34,
   "id": "2b6aaa39",
   "metadata": {},
   "outputs": [
    {
     "data": {
      "text/plain": [
       "array([ 5., 10., 15., 20.])"
      ]
     },
     "execution_count": 34,
     "metadata": {},
     "output_type": "execute_result"
    }
   ],
   "source": [
    "np.linspace(5,20,4)"
   ]
  },
  {
   "cell_type": "code",
   "execution_count": 35,
   "id": "47638291",
   "metadata": {},
   "outputs": [
    {
     "data": {
      "text/plain": [
       "array([10, 15, 20, 25, 30, 35, 40, 45])"
      ]
     },
     "execution_count": 35,
     "metadata": {},
     "output_type": "execute_result"
    }
   ],
   "source": [
    "np.arange(10,50,5)"
   ]
  },
  {
   "cell_type": "code",
   "execution_count": 36,
   "id": "acf47564",
   "metadata": {},
   "outputs": [
    {
     "name": "stdout",
     "output_type": "stream",
     "text": [
      "[ 1  2  3  4 54 56  6]\n",
      "<class 'numpy.ndarray'>\n"
     ]
    }
   ],
   "source": [
    "l = [1,2,3,4,54,56,6]\n",
    "x = np.asarray(l)\n",
    "print(x)\n",
    "print(type(x))"
   ]
  },
  {
   "cell_type": "code",
   "execution_count": 39,
   "id": "e577751d",
   "metadata": {},
   "outputs": [
    {
     "name": "stdout",
     "output_type": "stream",
     "text": [
      "(5, 5)\n",
      "2\n",
      "25\n",
      "int32\n"
     ]
    }
   ],
   "source": [
    "c = np.random.randint(5,50,(5,5))\n",
    "print(c.shape)\n",
    "print(c.ndim)\n",
    "print(c.size)\n",
    "print(c.dtype)"
   ]
  },
  {
   "cell_type": "code",
   "execution_count": 41,
   "id": "8e527886",
   "metadata": {},
   "outputs": [
    {
     "name": "stdout",
     "output_type": "stream",
     "text": [
      "[1, 2, 3, 4, 3, 4, 5]\n"
     ]
    }
   ],
   "source": [
    "l1 = [1,2,3,4]\n",
    "l2 = [3,4,5]\n",
    "print(l1+l2) #it will concatinate, not just ADD"
   ]
  },
  {
   "cell_type": "code",
   "execution_count": 43,
   "id": "00301c38",
   "metadata": {},
   "outputs": [
    {
     "name": "stdout",
     "output_type": "stream",
     "text": [
      "[ 4  6  8 10]\n"
     ]
    }
   ],
   "source": [
    "np_l1 = np.array([1,2,3,4])\n",
    "np_l2 = np.array([3,4,5,6])\n",
    "print(np_l1+np_l2)"
   ]
  },
  {
   "cell_type": "code",
   "execution_count": 46,
   "id": "d1b7e08e",
   "metadata": {},
   "outputs": [
    {
     "data": {
      "text/plain": [
       "array([[  2, -51,  -1],\n",
       "       [ -2,   0,  16],\n",
       "       [ -4, -17, -13]])"
      ]
     },
     "execution_count": 46,
     "metadata": {},
     "output_type": "execute_result"
    }
   ],
   "source": [
    "np.subtract(np1,np2)"
   ]
  },
  {
   "cell_type": "code",
   "execution_count": 47,
   "id": "1db022e2",
   "metadata": {},
   "outputs": [
    {
     "data": {
      "text/plain": [
       "array([[ 255,  406,  930],\n",
       "       [1443, 1225,  465],\n",
       "       [ 621, 2378, 1850]])"
      ]
     },
     "execution_count": 47,
     "metadata": {},
     "output_type": "execute_result"
    }
   ],
   "source": [
    "np.multiply(np1,np2)"
   ]
  },
  {
   "cell_type": "code",
   "execution_count": 51,
   "id": "8271d8dc",
   "metadata": {},
   "outputs": [
    {
     "data": {
      "text/plain": [
       "array([[ 6, 11, 11,  7,  7],\n",
       "       [11, 11,  6,  9, 11],\n",
       "       [ 9,  2,  4, 10,  4],\n",
       "       [ 2,  8,  3,  7,  5]])"
      ]
     },
     "execution_count": 51,
     "metadata": {},
     "output_type": "execute_result"
    }
   ],
   "source": [
    "x = np.random.randint(2,12,(4,5))\n",
    "x"
   ]
  },
  {
   "cell_type": "code",
   "execution_count": 52,
   "id": "01042ffb",
   "metadata": {},
   "outputs": [
    {
     "data": {
      "text/plain": [
       "array([[ 6, 11,  9,  2],\n",
       "       [11, 11,  2,  8],\n",
       "       [11,  6,  4,  3],\n",
       "       [ 7,  9, 10,  7],\n",
       "       [ 7, 11,  4,  5]])"
      ]
     },
     "execution_count": 52,
     "metadata": {},
     "output_type": "execute_result"
    }
   ],
   "source": [
    "np.transpose(x)"
   ]
  },
  {
   "cell_type": "code",
   "execution_count": 53,
   "id": "2b031dc0",
   "metadata": {},
   "outputs": [
    {
     "data": {
      "text/plain": [
       "array([[ 6, 11,  9,  2],\n",
       "       [11, 11,  2,  8],\n",
       "       [11,  6,  4,  3],\n",
       "       [ 7,  9, 10,  7],\n",
       "       [ 7, 11,  4,  5]])"
      ]
     },
     "execution_count": 53,
     "metadata": {},
     "output_type": "execute_result"
    }
   ],
   "source": [
    "x.T"
   ]
  },
  {
   "cell_type": "code",
   "execution_count": 54,
   "id": "9c9859a8",
   "metadata": {},
   "outputs": [
    {
     "data": {
      "text/plain": [
       "array([[1, 3, 0],\n",
       "       [1, 6, 6]])"
      ]
     },
     "execution_count": 54,
     "metadata": {},
     "output_type": "execute_result"
    }
   ],
   "source": [
    "y = np.random.randint(0,10,(2,3))\n",
    "y"
   ]
  },
  {
   "cell_type": "code",
   "execution_count": 57,
   "id": "8e8059e5",
   "metadata": {},
   "outputs": [
    {
     "data": {
      "text/plain": [
       "array([[1, 3],\n",
       "       [0, 1],\n",
       "       [6, 6]])"
      ]
     },
     "execution_count": 57,
     "metadata": {},
     "output_type": "execute_result"
    }
   ],
   "source": [
    "y.reshape((3,2))"
   ]
  },
  {
   "cell_type": "code",
   "execution_count": null,
   "id": "f60266fd",
   "metadata": {},
   "outputs": [],
   "source": []
  }
 ],
 "metadata": {
  "kernelspec": {
   "display_name": "Python 3 (ipykernel)",
   "language": "python",
   "name": "python3"
  },
  "language_info": {
   "codemirror_mode": {
    "name": "ipython",
    "version": 3
   },
   "file_extension": ".py",
   "mimetype": "text/x-python",
   "name": "python",
   "nbconvert_exporter": "python",
   "pygments_lexer": "ipython3",
   "version": "3.9.13"
  }
 },
 "nbformat": 4,
 "nbformat_minor": 5
}
